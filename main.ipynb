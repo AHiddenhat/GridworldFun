{
 "cells": [
  {
   "cell_type": "markdown",
   "source": [
    "Hello there"
   ],
   "metadata": {}
  },
  {
   "cell_type": "code",
   "execution_count": 1,
   "source": [
    "from classes.Grid import Grid\n",
    "from classes.Agents import ValueAgent\n",
    "from classes.util import animate\n",
    "import matplotlib.pyplot as plt"
   ],
   "outputs": [],
   "metadata": {}
  },
  {
   "cell_type": "code",
   "execution_count": 10,
   "source": [
    "dim = (9,9)\n",
    "data = {\"start\" : (0, 0), \"terminal\" : [], \"wall\" : []}\n",
    "for i in [0, 1, 2, 3, 5, 6, 7, 8]:\n",
    "    data[\"terminal\"].append(((4, i), -10))\n",
    "data[\"terminal\"].append(((8, 8), 10))\n",
    "easy = Grid(dim, data, living_reward=0)"
   ],
   "outputs": [],
   "metadata": {}
  },
  {
   "cell_type": "code",
   "execution_count": 21,
   "source": [
    "samples = 20\n",
    "snell = ValueAgent(easy, epsilon=0, gamma=0.9)\n",
    "value_data = [snell.value_matrix]\n",
    "history = []\n",
    "for x in range(samples):\n",
    "  snell.update_all()\n",
    "  value_data.append(snell.value_matrix.copy())\n",
    "animate(value_data)\n",
    "# Animation doesn't appear in vscode. Run jupyter notebook to see animation."
   ],
   "outputs": [],
   "metadata": {}
  },
  {
   "cell_type": "code",
   "execution_count": null,
   "source": [],
   "outputs": [],
   "metadata": {}
  }
 ],
 "metadata": {
  "orig_nbformat": 4,
  "language_info": {
   "name": "python",
   "version": "3.9.12",
   "mimetype": "text/x-python",
   "codemirror_mode": {
    "name": "ipython",
    "version": 3
   },
   "pygments_lexer": "ipython3",
   "nbconvert_exporter": "python",
   "file_extension": ".py"
  },
  "kernelspec": {
   "name": "python3",
   "display_name": "Python 3.9.12 64-bit ('base': conda)"
  },
  "interpreter": {
   "hash": "329cab5f066b8c3b44b2a493295250b6a25c63618300086ef34400f02a50e9a7"
  }
 },
 "nbformat": 4,
 "nbformat_minor": 2
}